{
 "cells": [
  {
   "cell_type": "code",
   "execution_count": 1,
   "id": "3601d4ad",
   "metadata": {},
   "outputs": [],
   "source": [
    "import pandas as pd\n",
    "import numpy as np\n",
    "import seaborn as sns \n",
    "import matplotlib.pyplot as plt\n",
    "import warnings\n",
    "warnings.filterwarnings('ignore')\n"
   ]
  },
  {
   "cell_type": "code",
   "execution_count": null,
   "id": "5d0507e2",
   "metadata": {},
   "outputs": [],
   "source": [
    "df=pd.read_csv('mashroom.csv')\n",
    "df\n"
   ]
  },
  {
   "cell_type": "code",
   "execution_count": null,
   "id": "e00a7bd9",
   "metadata": {},
   "outputs": [],
   "source": [
    "df.info()\n"
   ]
  },
  {
   "cell_type": "code",
   "execution_count": null,
   "id": "afaa00d5",
   "metadata": {},
   "outputs": [],
   "source": [
    "df.isnull().sum()\n"
   ]
  },
  {
   "cell_type": "code",
   "execution_count": null,
   "id": "add52ad7",
   "metadata": {},
   "outputs": [],
   "source": [
    "df.duplicated().sum()\n"
   ]
  },
  {
   "cell_type": "code",
   "execution_count": null,
   "id": "f2f80a1d",
   "metadata": {},
   "outputs": [],
   "source": [
    "for i in df.columns:\n",
    "    plt.figure()\n",
    "    sns.countplot(df[i])\n",
    "    sns.set(style='whitegrid')\n"
   ]
  },
  {
   "cell_type": "code",
   "execution_count": null,
   "id": "9f8fd97b",
   "metadata": {},
   "outputs": [],
   "source": [
    "df.columns\n"
   ]
  },
  {
   "cell_type": "code",
   "execution_count": null,
   "id": "9fa82e23",
   "metadata": {},
   "outputs": [],
   "source": [
    "from sklearn.preprocessing import LabelEncoder\n",
    "lb=LabelEncoder()\n"
   ]
  },
  {
   "cell_type": "code",
   "execution_count": null,
   "id": "2c8d67f1",
   "metadata": {},
   "outputs": [],
   "source": [
    "for i in df.columns:\n",
    "    df[i]=lb.fit_transform(df[i])\n",
    "    df\n"
   ]
  },
  {
   "cell_type": "code",
   "execution_count": null,
   "id": "eb62f3e9",
   "metadata": {},
   "outputs": [],
   "source": [
    "df\n"
   ]
  },
  {
   "cell_type": "code",
   "execution_count": null,
   "id": "abe02485",
   "metadata": {},
   "outputs": [],
   "source": [
    "corr=df.corr()\n"
   ]
  },
  {
   "cell_type": "code",
   "execution_count": null,
   "id": "1ce57c16",
   "metadata": {},
   "outputs": [],
   "source": [
    "plt.figure(figsize=(20,15))\n",
    "sns.heatmap(data=corr,annot=True)\n"
   ]
  },
  {
   "cell_type": "code",
   "execution_count": null,
   "id": "f9be49fd",
   "metadata": {},
   "outputs": [],
   "source": [
    "df.drop('veil-type',axis=1,inplace=True)\n"
   ]
  },
  {
   "cell_type": "code",
   "execution_count": null,
   "id": "ead66d38",
   "metadata": {},
   "outputs": [],
   "source": [
    "df.drop('cap-surface',axis=1,inplace=True)\n"
   ]
  },
  {
   "cell_type": "code",
   "execution_count": null,
   "id": "8e20eee7",
   "metadata": {},
   "outputs": [],
   "source": [
    "df.head()\n"
   ]
  },
  {
   "cell_type": "code",
   "execution_count": null,
   "id": "a799c90f",
   "metadata": {},
   "outputs": [],
   "source": [
    "x=df.drop('class',axis=1)\n",
    "x\n"
   ]
  },
  {
   "cell_type": "code",
   "execution_count": null,
   "id": "e0bf2f20",
   "metadata": {},
   "outputs": [],
   "source": [
    "y=df['class']\n",
    "y\n"
   ]
  },
  {
   "cell_type": "code",
   "execution_count": null,
   "id": "ad4ea68e",
   "metadata": {},
   "outputs": [],
   "source": [
    "y.value_counts()\n"
   ]
  },
  {
   "cell_type": "code",
   "execution_count": null,
   "id": "c7c11856",
   "metadata": {},
   "outputs": [],
   "source": [
    "from imblearn.over_sampling import SMOTE"
   ]
  },
  {
   "cell_type": "code",
   "execution_count": null,
   "id": "b456b6f8",
   "metadata": {},
   "outputs": [],
   "source": [
    "smt=SMOTE()\n",
    "trainx,trainy=smt.fit_resample(x,y)\n"
   ]
  },
  {
   "cell_type": "code",
   "execution_count": null,
   "id": "8e12c9cf",
   "metadata": {},
   "outputs": [],
   "source": [
    "trainy.value_counts()\n"
   ]
  },
  {
   "cell_type": "code",
   "execution_count": null,
   "id": "8a2ec4c5",
   "metadata": {},
   "outputs": [],
   "source": [
    "trainy\n"
   ]
  },
  {
   "cell_type": "code",
   "execution_count": null,
   "id": "1b666235",
   "metadata": {},
   "outputs": [],
   "source": [
    "from sklearn.model_selection  import train_test_split \n",
    "from sklearn.linear_model import LogisticRegression\n",
    "from sklearn.metrics import accuracy_score,confusion_matrix,classification_report,f1_score\n"
   ]
  },
  {
   "cell_type": "code",
   "execution_count": null,
   "id": "deab2b43",
   "metadata": {},
   "outputs": [],
   "source": [
    "lg=LogisticRegression()\n"
   ]
  },
  {
   "cell_type": "code",
   "execution_count": null,
   "id": "6aacd3c1",
   "metadata": {},
   "outputs": [],
   "source": [
    "for i in range(1,100):\n",
    "    x_train,x_test,y_train,y_test=train_test_split(x,y,test_size=0.20,random_state=i)\n",
    "    lg.fit(x_train,y_train)\n",
    "    pred_test=lg.predict(x_test)\n",
    "    pred_train=lg.predict(x_train)\n",
    "    if round(accuracy_score(y_test,pred_test)*100,1)==round(accuracy_score(y_train,pred_train)*100,1):\n",
    "        print('Random state',i,'score is well')\n",
    "        print('test score',accuracy_score(y_test,pred_test)*100)\n",
    "        print('train score',accuracy_score(y_train,pred_train)*100)"
   ]
  },
  {
   "cell_type": "code",
   "execution_count": null,
   "id": "664a7b34",
   "metadata": {},
   "outputs": [],
   "source": [
    "from sklearn.svm import SVC\n",
    "from sklearn.naive_bayes import MultinomialNB\n",
    "from sklearn.tree import DecisionTreeClassifier\n",
    "from sklearn.neighbors import KNeighborsClassifier\n",
    "from sklearn.model_selection import GridSearchCV\n"
   ]
  },
  {
   "cell_type": "code",
   "execution_count": null,
   "id": "b1891393",
   "metadata": {},
   "outputs": [],
   "source": [
    "svc=SVC()\n",
    "dtc=DecisionTreeClassifier()\n",
    "knn=KNeighborsClassifier()\n",
    "nb=MultinomialNB()\n"
   ]
  },
  {
   "cell_type": "code",
   "execution_count": null,
   "id": "7583873e",
   "metadata": {},
   "outputs": [],
   "source": [
    "param={'kernel':['linear','rbf','poly','sigmoid']}\n",
    "gd=GridSearchCV(svc,param,cv=5)\n",
    "gd.fit(x,y)\n",
    "print(gd.best_params_)\n"
   ]
  },
  {
   "cell_type": "code",
   "execution_count": null,
   "id": "53e90467",
   "metadata": {},
   "outputs": [],
   "source": [
    "param={'criterion':['ginny','entropy'],'splitter':['best','random'],'max_features':['none','auto','sqrt','log2']}\n",
    "gd=GridSearchCV(dtc,param)\n",
    "gd.fit(x,y)\n",
    "print(gd.best_params_)\n"
   ]
  },
  {
   "cell_type": "code",
   "execution_count": null,
   "id": "68e97428",
   "metadata": {},
   "outputs": [],
   "source": [
    "param={'n_neighbors':[7,5,11],'weights':['uniform','distance'],'algorithm':['auto','bell_tree','kd_tree','brute']}\n",
    "gd=GridSearchCV(knn,param)\n",
    "gd.fit(x,y)\n",
    "print(gd.best_params_)\n"
   ]
  },
  {
   "cell_type": "code",
   "execution_count": null,
   "id": "f332f8e2",
   "metadata": {},
   "outputs": [],
   "source": [
    "svc=SVC(kernel='linear')\n",
    "dtc=DecisionTreeClassifier(criterion='entropy',max_features='log2',splitter='random')\n",
    "knn=KNeighborsClassifier(n_neighbors=5,weights='distance',algorithm='auto')\n",
    "nb=MultinomialNB()\n"
   ]
  },
  {
   "cell_type": "code",
   "execution_count": null,
   "id": "1b18e9c4",
   "metadata": {},
   "outputs": [],
   "source": [
    "def fun(f):\n",
    "    f.fit(x_train,y_train)\n",
    "    pred=f.predict(x_test)\n",
    "    print('Accuracy Score',accuracy_score(y_test,pred))\n",
    "    print('Confusion Matrix\\n',confusion_matrix(y_test,pred))\n",
    "    print('Classification Report\\n',classification_report(y_test,pred))\n",
    "    print('F1 score',f1_score(y_test,pred))\n"
   ]
  },
  {
   "cell_type": "code",
   "execution_count": null,
   "id": "f7b2a0bf",
   "metadata": {},
   "outputs": [],
   "source": [
    "fun(svc)\n"
   ]
  },
  {
   "cell_type": "code",
   "execution_count": null,
   "id": "d03110b4",
   "metadata": {},
   "outputs": [],
   "source": [
    "fun(dtc)\n"
   ]
  },
  {
   "cell_type": "code",
   "execution_count": null,
   "id": "1500c0bb",
   "metadata": {},
   "outputs": [],
   "source": [
    "fun(knn)\n"
   ]
  },
  {
   "cell_type": "code",
   "execution_count": null,
   "id": "bd57848d",
   "metadata": {},
   "outputs": [],
   "source": [
    "fun(nb)\n"
   ]
  },
  {
   "cell_type": "code",
   "execution_count": null,
   "id": "2861f060",
   "metadata": {},
   "outputs": [],
   "source": [
    "fun(lg)\n"
   ]
  },
  {
   "cell_type": "markdown",
   "id": "5d67fef7",
   "metadata": {},
   "source": [
    "Cross Validation\n"
   ]
  },
  {
   "cell_type": "code",
   "execution_count": null,
   "id": "4b34fa3a",
   "metadata": {},
   "outputs": [],
   "source": [
    "from sklearn.model_selection import cross_val_score\n",
    "from sklearn.model_selection import KFold\n"
   ]
  },
  {
   "cell_type": "code",
   "execution_count": null,
   "id": "a4b940dc",
   "metadata": {},
   "outputs": [],
   "source": [
    "score=cross_val_score(SVC(kernel='linear'),x,y,cv=5)\n",
    "print(score)\n",
    "print(score.mean())\n"
   ]
  },
  {
   "cell_type": "code",
   "execution_count": null,
   "id": "79050a52",
   "metadata": {},
   "outputs": [],
   "source": [
    "score=cross_val_score(DecisionTreeClassifier(criterion='entropy',max_features='log2',splitter='random'),x,y,cv=5)\n",
    "print(score)\n",
    "print(score.mean())\n"
   ]
  },
  {
   "cell_type": "code",
   "execution_count": null,
   "id": "8ce5951b",
   "metadata": {},
   "outputs": [],
   "source": [
    "score=cross_val_score(KNeighborsClassifier(n_neighbors=5,weights='distance',algorithm='auto'),x,y,cv=5)\n",
    "print(score)\n",
    "print(score.mean())\n"
   ]
  },
  {
   "cell_type": "code",
   "execution_count": null,
   "id": "f135192d",
   "metadata": {},
   "outputs": [],
   "source": [
    "score=cross_val_score(MultinomialNB(),x,y,cv=5)\n",
    "print(score)\n",
    "print(score.mean())\n"
   ]
  },
  {
   "cell_type": "markdown",
   "id": "ed498e07",
   "metadata": {},
   "source": [
    "Ensemble Method\n"
   ]
  },
  {
   "cell_type": "code",
   "execution_count": null,
   "id": "23ff8f78",
   "metadata": {},
   "outputs": [],
   "source": [
    "from sklearn.ensemble import RandomForestClassifier,AdaBoostClassifier,GradientBoostingClassifier\n"
   ]
  },
  {
   "cell_type": "code",
   "execution_count": null,
   "id": "7008d415",
   "metadata": {},
   "outputs": [],
   "source": [
    "rf=RandomForestClassifier(n_estimators=100,random_state=23)\n",
    "ad=AdaBoostClassifier()\n",
    "Gd=GradientBoostingClassifier(n_estimators=200,learning_rate=0.1)\n"
   ]
  },
  {
   "cell_type": "code",
   "execution_count": null,
   "id": "b121ea1a",
   "metadata": {},
   "outputs": [],
   "source": [
    "fun(rf)\n"
   ]
  },
  {
   "cell_type": "code",
   "execution_count": null,
   "id": "b5b9ce1d",
   "metadata": {},
   "outputs": [],
   "source": [
    "fun(ad)\n"
   ]
  },
  {
   "cell_type": "code",
   "execution_count": null,
   "id": "5d94f8da",
   "metadata": {},
   "outputs": [],
   "source": [
    "fun(gd)"
   ]
  },
  {
   "cell_type": "markdown",
   "id": "1d0ffd0a",
   "metadata": {},
   "source": [
    "Voting Classifier"
   ]
  },
  {
   "cell_type": "code",
   "execution_count": null,
   "id": "597ad161",
   "metadata": {},
   "outputs": [],
   "source": [
    "from sklearn.ensemble import VotingClassifier\n"
   ]
  },
  {
   "cell_type": "code",
   "execution_count": null,
   "id": "2c760c6e",
   "metadata": {},
   "outputs": [],
   "source": [
    "estimator=[]\n",
    "\n",
    "estimator.append(('svc',SVC(kernel='linear')))\n",
    "estimator.append(('dtc',DecisionTreeClassifier(criterion='entropy',max_features='log2',splitter='random')))\n",
    "estimator.append(('knn',KNeighborsClassifier(n_neighbors=5,weights='distance',algorithm='auto')))\n",
    "estimator.append(('nb',MultinomialNB()))\n"
   ]
  },
  {
   "cell_type": "code",
   "execution_count": null,
   "id": "5e46d8e3",
   "metadata": {},
   "outputs": [],
   "source": [
    "vot_soft=VotingClassifier(estimators=estimator,voting='hard')\n",
    "vot_soft.fit(x_train,y_train)\n",
    "y_pred=vot_soft.predict(x_test)\n",
    "print(y_pred)\n",
    "#usint accuracy score\n",
    "score=(accuracy_score(y_test,y_pred))\n",
    "print('soft voting score % d'% score)\n"
   ]
  },
  {
   "cell_type": "markdown",
   "id": "93f7c8e6",
   "metadata": {},
   "source": [
    "AUC ROC CURVE\n"
   ]
  },
  {
   "cell_type": "code",
   "execution_count": null,
   "id": "43db6a7b",
   "metadata": {},
   "outputs": [],
   "source": [
    "from sklearn.metrics import roc_curve\n"
   ]
  },
  {
   "cell_type": "code",
   "execution_count": null,
   "id": "12b14c0e",
   "metadata": {},
   "outputs": [],
   "source": [
    "y_pred_prob=rf.predict_proba(x_test)[:,1]\n"
   ]
  },
  {
   "cell_type": "code",
   "execution_count": null,
   "id": "483764fb",
   "metadata": {},
   "outputs": [],
   "source": [
    "y_pred_prob"
   ]
  },
  {
   "cell_type": "code",
   "execution_count": null,
   "id": "d81ee555",
   "metadata": {},
   "outputs": [],
   "source": [
    "fpr,tpr,thersholds=roc_curve(y_test,y_pred_prob)\n"
   ]
  },
  {
   "cell_type": "code",
   "execution_count": null,
   "id": "2462a946",
   "metadata": {},
   "outputs": [],
   "source": [
    "fpr"
   ]
  },
  {
   "cell_type": "code",
   "execution_count": null,
   "id": "9a674ac3",
   "metadata": {},
   "outputs": [],
   "source": [
    "tpr"
   ]
  },
  {
   "cell_type": "code",
   "execution_count": null,
   "id": "3615cd13",
   "metadata": {},
   "outputs": [],
   "source": [
    "thersholds\n"
   ]
  },
  {
   "cell_type": "code",
   "execution_count": null,
   "id": "549c30d1",
   "metadata": {},
   "outputs": [],
   "source": [
    "plt.plot(fpr,tpr)\n",
    "plt.xlabel('False Positive Rate')\n",
    "plt.ylabel('True Positive Rate')\n",
    "plt.title('Logistic Regression')\n",
    "plt.show()\n"
   ]
  },
  {
   "cell_type": "code",
   "execution_count": null,
   "id": "0caa8ec9",
   "metadata": {},
   "outputs": [],
   "source": [
    "import pickle\n",
    "filename='Mashroom_Prediction.pkl'\n",
    "pickle.dump(rf,open(filename,'wb'))"
   ]
  },
  {
   "cell_type": "code",
   "execution_count": null,
   "id": "0be6b554",
   "metadata": {},
   "outputs": [],
   "source": [
    "res=pd.DataFrame()\n",
    "res['Actual']=y_test\n",
    "res['Predict']=rf.predict(x_test)\n",
    "\n",
    "print(res)\n",
    "sns.catplot(data=res)\n"
   ]
  }
 ],
 "metadata": {
  "kernelspec": {
   "display_name": "Python 3",
   "language": "python",
   "name": "python3"
  },
  "language_info": {
   "codemirror_mode": {
    "name": "ipython",
    "version": 3
   },
   "file_extension": ".py",
   "mimetype": "text/x-python",
   "name": "python",
   "nbconvert_exporter": "python",
   "pygments_lexer": "ipython3",
   "version": "3.8.8"
  }
 },
 "nbformat": 4,
 "nbformat_minor": 5
}
